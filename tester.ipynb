{
 "cells": [
  {
   "cell_type": "code",
   "execution_count": 1,
   "metadata": {},
   "outputs": [],
   "source": [
    "import os\n",
    "import pandas as pd\n",
    "import numpy as np\n",
    "import html\n",
    "import functions as f"
   ]
  },
  {
   "cell_type": "code",
   "execution_count": 2,
   "metadata": {},
   "outputs": [],
   "source": [
    "data = pd.read_pickle(os.path.join(\"data\", \"end_2019.pkl\"))\n",
    "data = data.drop(['Duration (ms)'], axis=1)"
   ]
  },
  {
   "cell_type": "code",
   "execution_count": 3,
   "metadata": {},
   "outputs": [
    {
     "name": "stdout",
     "output_type": "stream",
     "text": [
      "41249\n"
     ]
    }
   ],
   "source": [
    "print(f.total_plays(data))"
   ]
  },
  {
   "cell_type": "code",
   "execution_count": 4,
   "metadata": {
    "scrolled": true
   },
   "outputs": [
    {
     "data": {
      "text/plain": [
       "9221"
      ]
     },
     "execution_count": 4,
     "metadata": {},
     "output_type": "execute_result"
    }
   ],
   "source": [
    "f.plays_by_artist(data, \"Imagine Dragons\")"
   ]
  },
  {
   "cell_type": "code",
   "execution_count": 5,
   "metadata": {},
   "outputs": [
    {
     "data": {
      "text/plain": [
       "Play Count              6893\n",
       "Total Duration    1424943490\n",
       "Name: Bastille, dtype: int64"
      ]
     },
     "execution_count": 5,
     "metadata": {},
     "output_type": "execute_result"
    }
   ],
   "source": [
    "data.groupby(['Artist']).sum().loc['Bastille']"
   ]
  },
  {
   "cell_type": "code",
   "execution_count": 6,
   "metadata": {},
   "outputs": [
    {
     "data": {
      "text/plain": [
       "1482862046"
      ]
     },
     "execution_count": 6,
     "metadata": {},
     "output_type": "execute_result"
    }
   ],
   "source": [
    "artist = \"Bastille\".lower()\n",
    "bastille = data[data['Artist'].apply(lambda x: artist in x.lower())]\n",
    "bastille['Total Duration'].sum()"
   ]
  },
  {
   "cell_type": "code",
   "execution_count": 7,
   "metadata": {},
   "outputs": [
    {
     "data": {
      "text/plain": [
       "560.7369594444444"
      ]
     },
     "execution_count": 7,
     "metadata": {},
     "output_type": "execute_result"
    }
   ],
   "source": [
    "f.length_by_artist(data, \"OneRepublic\", length='hours')"
   ]
  },
  {
   "cell_type": "code",
   "execution_count": 8,
   "metadata": {},
   "outputs": [
    {
     "data": {
      "text/html": [
       "<div>\n",
       "<style scoped>\n",
       "    .dataframe tbody tr th:only-of-type {\n",
       "        vertical-align: middle;\n",
       "    }\n",
       "\n",
       "    .dataframe tbody tr th {\n",
       "        vertical-align: top;\n",
       "    }\n",
       "\n",
       "    .dataframe thead th {\n",
       "        text-align: right;\n",
       "    }\n",
       "</style>\n",
       "<table border=\"1\" class=\"dataframe\">\n",
       "  <thead>\n",
       "    <tr style=\"text-align: right;\">\n",
       "      <th></th>\n",
       "      <th>Play Count</th>\n",
       "      <th>Total Duration</th>\n",
       "    </tr>\n",
       "    <tr>\n",
       "      <th>Artist</th>\n",
       "      <th></th>\n",
       "      <th></th>\n",
       "    </tr>\n",
       "  </thead>\n",
       "  <tbody>\n",
       "    <tr>\n",
       "      <th>Imagine Dragons</th>\n",
       "      <td>9191</td>\n",
       "      <td>583.558582</td>\n",
       "    </tr>\n",
       "    <tr>\n",
       "      <th>OneRepublic</th>\n",
       "      <td>8828</td>\n",
       "      <td>555.538781</td>\n",
       "    </tr>\n",
       "    <tr>\n",
       "      <th>Bastille</th>\n",
       "      <td>6893</td>\n",
       "      <td>395.817636</td>\n",
       "    </tr>\n",
       "    <tr>\n",
       "      <th>Coldplay</th>\n",
       "      <td>3179</td>\n",
       "      <td>236.167135</td>\n",
       "    </tr>\n",
       "    <tr>\n",
       "      <th>Thousand Foot Krutch</th>\n",
       "      <td>2708</td>\n",
       "      <td>163.717415</td>\n",
       "    </tr>\n",
       "    <tr>\n",
       "      <th>twenty one pilots</th>\n",
       "      <td>1975</td>\n",
       "      <td>128.787091</td>\n",
       "    </tr>\n",
       "    <tr>\n",
       "      <th>Stromae</th>\n",
       "      <td>893</td>\n",
       "      <td>55.908821</td>\n",
       "    </tr>\n",
       "    <tr>\n",
       "      <th>Ed Sheeran</th>\n",
       "      <td>941</td>\n",
       "      <td>55.560957</td>\n",
       "    </tr>\n",
       "    <tr>\n",
       "      <th>Hawk Nelson</th>\n",
       "      <td>996</td>\n",
       "      <td>53.090708</td>\n",
       "    </tr>\n",
       "    <tr>\n",
       "      <th>Fitz &amp; The Tantrums</th>\n",
       "      <td>843</td>\n",
       "      <td>47.445510</td>\n",
       "    </tr>\n",
       "    <tr>\n",
       "      <th>Panic! At The Disco</th>\n",
       "      <td>567</td>\n",
       "      <td>30.533549</td>\n",
       "    </tr>\n",
       "  </tbody>\n",
       "</table>\n",
       "</div>"
      ],
      "text/plain": [
       "                      Play Count  Total Duration\n",
       "Artist                                          \n",
       "Imagine Dragons             9191      583.558582\n",
       "OneRepublic                 8828      555.538781\n",
       "Bastille                    6893      395.817636\n",
       "Coldplay                    3179      236.167135\n",
       "Thousand Foot Krutch        2708      163.717415\n",
       "twenty one pilots           1975      128.787091\n",
       "Stromae                      893       55.908821\n",
       "Ed Sheeran                   941       55.560957\n",
       "Hawk Nelson                  996       53.090708\n",
       "Fitz & The Tantrums          843       47.445510\n",
       "Panic! At The Disco          567       30.533549"
      ]
     },
     "execution_count": 8,
     "metadata": {},
     "output_type": "execute_result"
    }
   ],
   "source": [
    "f.length_by_artist(data, length='hours')[:11]"
   ]
  },
  {
   "cell_type": "code",
   "execution_count": 9,
   "metadata": {},
   "outputs": [
    {
     "data": {
      "text/plain": [
       "array(['Panic! At The Disco', 'FM Static', 'Bastille', 'nan',\n",
       "       'Fitz & The Tantrums', 'Hawk Nelson', 'Imagine Dragons',\n",
       "       'Coldplay', 'Rise Against', 'Linkin Park', 'Thousand Foot Krutch',\n",
       "       'Nine Lashes', 'Ed Sheeran', 'Andrew McMahon in the Wilderness',\n",
       "       'Pillar', 'OneRepublic', 'Alesso',\n",
       "       'OneRepublic and The London Studio Orchestra', 'Owl City',\n",
       "       'Stromae', 'Young The Giant', 'Timbaland', 'Red', 'Skillet',\n",
       "       'Bastille and Rationale and Tyde', 'Bastille and MNEK',\n",
       "       'twenty one pilots', 'American Authors', 'AJR',\n",
       "       'Bastille and HAIM', 'Galantis', 'Kygo', 'Jason Dunn', 'Kongos',\n",
       "       \"Other People's Heartache\",\n",
       "       'Bastille and The Gemma Sharples Quartet',\n",
       "       'Grand Canyon University', 'Marshmello', 'Alesso & OneRepublic',\n",
       "       'The Drawing Room', 'Young Rising Sons', 'Rudimental',\n",
       "       'Coldplay & Big Sean', 'Coldplay & Rihanna',\n",
       "       \"Bastille and Rag'N'Bone Man and Skunk Anansie\",\n",
       "       'Coldplay & The Chainsmokers', 'The Chainsmokers and Coldplay',\n",
       "       'Lil Wayne, Wiz Khalifa & Imagine Dragons', 'Bastille and GRADES',\n",
       "       'Bastille and GRADES and Lizzo', 'Alesso and Calvin Harris',\n",
       "       'Angel Haze and Bastille and Braque and F*U*G*Z'], dtype=object)"
      ]
     },
     "execution_count": 9,
     "metadata": {},
     "output_type": "execute_result"
    }
   ],
   "source": [
    "artists = data['Artist'].unique()\n",
    "artists"
   ]
  },
  {
   "cell_type": "code",
   "execution_count": 10,
   "metadata": {},
   "outputs": [
    {
     "data": {
      "text/plain": [
       "array(['Panic! At The Disco', 'FM Static', 'Bastille', 'nan',\n",
       "       'Fitz & The Tantrums', 'Hawk Nelson', 'Imagine Dragons',\n",
       "       'Coldplay', 'Rise Against', 'Linkin Park', 'Thousand Foot Krutch',\n",
       "       'Nine Lashes', 'Ed Sheeran', 'Andrew McMahon in the Wilderness',\n",
       "       'Pillar', 'OneRepublic', 'Alesso', 'Owl City', 'Stromae',\n",
       "       'Young The Giant', 'Timbaland', 'Red', 'Skillet',\n",
       "       'twenty one pilots', 'American Authors', 'AJR', 'Galantis', 'Kygo',\n",
       "       'Jason Dunn', 'Kongos', \"Other People's Heartache\",\n",
       "       'Grand Canyon University', 'Marshmello', 'The Drawing Room',\n",
       "       'Young Rising Sons', 'Rudimental', 'Alesso and Calvin Harris'],\n",
       "      dtype=object)"
      ]
     },
     "execution_count": 10,
     "metadata": {},
     "output_type": "execute_result"
    }
   ],
   "source": [
    "data = f.compress_saved(data)\n",
    "data['Artist'].unique()"
   ]
  },
  {
   "cell_type": "code",
   "execution_count": 11,
   "metadata": {},
   "outputs": [
    {
     "data": {
      "text/html": [
       "<div>\n",
       "<style scoped>\n",
       "    .dataframe tbody tr th:only-of-type {\n",
       "        vertical-align: middle;\n",
       "    }\n",
       "\n",
       "    .dataframe tbody tr th {\n",
       "        vertical-align: top;\n",
       "    }\n",
       "\n",
       "    .dataframe thead th {\n",
       "        text-align: right;\n",
       "    }\n",
       "</style>\n",
       "<table border=\"1\" class=\"dataframe\">\n",
       "  <thead>\n",
       "    <tr style=\"text-align: right;\">\n",
       "      <th></th>\n",
       "      <th>Play Count</th>\n",
       "      <th>Total Duration</th>\n",
       "    </tr>\n",
       "    <tr>\n",
       "      <th>Artist</th>\n",
       "      <th></th>\n",
       "      <th></th>\n",
       "    </tr>\n",
       "  </thead>\n",
       "  <tbody>\n",
       "    <tr>\n",
       "      <th>Imagine Dragons</th>\n",
       "      <td>9221</td>\n",
       "      <td>585.587857</td>\n",
       "    </tr>\n",
       "    <tr>\n",
       "      <th>OneRepublic</th>\n",
       "      <td>8909</td>\n",
       "      <td>560.736959</td>\n",
       "    </tr>\n",
       "    <tr>\n",
       "      <th>Bastille</th>\n",
       "      <td>7155</td>\n",
       "      <td>411.906124</td>\n",
       "    </tr>\n",
       "    <tr>\n",
       "      <th>Coldplay</th>\n",
       "      <td>3416</td>\n",
       "      <td>253.255570</td>\n",
       "    </tr>\n",
       "    <tr>\n",
       "      <th>Thousand Foot Krutch</th>\n",
       "      <td>2708</td>\n",
       "      <td>163.717415</td>\n",
       "    </tr>\n",
       "    <tr>\n",
       "      <th>twenty one pilots</th>\n",
       "      <td>1975</td>\n",
       "      <td>128.787091</td>\n",
       "    </tr>\n",
       "    <tr>\n",
       "      <th>Stromae</th>\n",
       "      <td>893</td>\n",
       "      <td>55.908821</td>\n",
       "    </tr>\n",
       "    <tr>\n",
       "      <th>Ed Sheeran</th>\n",
       "      <td>941</td>\n",
       "      <td>55.560957</td>\n",
       "    </tr>\n",
       "    <tr>\n",
       "      <th>Hawk Nelson</th>\n",
       "      <td>996</td>\n",
       "      <td>53.090708</td>\n",
       "    </tr>\n",
       "    <tr>\n",
       "      <th>Fitz &amp; The Tantrums</th>\n",
       "      <td>843</td>\n",
       "      <td>47.445510</td>\n",
       "    </tr>\n",
       "    <tr>\n",
       "      <th>Panic! At The Disco</th>\n",
       "      <td>567</td>\n",
       "      <td>30.533549</td>\n",
       "    </tr>\n",
       "    <tr>\n",
       "      <th>Owl City</th>\n",
       "      <td>490</td>\n",
       "      <td>28.698172</td>\n",
       "    </tr>\n",
       "    <tr>\n",
       "      <th>Andrew McMahon in the Wilderness</th>\n",
       "      <td>354</td>\n",
       "      <td>22.372106</td>\n",
       "    </tr>\n",
       "    <tr>\n",
       "      <th>Rise Against</th>\n",
       "      <td>331</td>\n",
       "      <td>18.740209</td>\n",
       "    </tr>\n",
       "    <tr>\n",
       "      <th>Kygo</th>\n",
       "      <td>286</td>\n",
       "      <td>17.110161</td>\n",
       "    </tr>\n",
       "    <tr>\n",
       "      <th>FM Static</th>\n",
       "      <td>300</td>\n",
       "      <td>16.564424</td>\n",
       "    </tr>\n",
       "    <tr>\n",
       "      <th>Nine Lashes</th>\n",
       "      <td>235</td>\n",
       "      <td>13.489119</td>\n",
       "    </tr>\n",
       "    <tr>\n",
       "      <th>Pillar</th>\n",
       "      <td>211</td>\n",
       "      <td>12.869219</td>\n",
       "    </tr>\n",
       "    <tr>\n",
       "      <th>Other People's Heartache</th>\n",
       "      <td>184</td>\n",
       "      <td>12.341233</td>\n",
       "    </tr>\n",
       "    <tr>\n",
       "      <th>American Authors</th>\n",
       "      <td>197</td>\n",
       "      <td>11.197222</td>\n",
       "    </tr>\n",
       "    <tr>\n",
       "      <th>AJR</th>\n",
       "      <td>150</td>\n",
       "      <td>8.853841</td>\n",
       "    </tr>\n",
       "    <tr>\n",
       "      <th>The Drawing Room</th>\n",
       "      <td>167</td>\n",
       "      <td>7.746160</td>\n",
       "    </tr>\n",
       "    <tr>\n",
       "      <th>Alesso</th>\n",
       "      <td>130</td>\n",
       "      <td>7.481433</td>\n",
       "    </tr>\n",
       "    <tr>\n",
       "      <th>Skillet</th>\n",
       "      <td>115</td>\n",
       "      <td>6.677478</td>\n",
       "    </tr>\n",
       "    <tr>\n",
       "      <th>Marshmello</th>\n",
       "      <td>101</td>\n",
       "      <td>6.013259</td>\n",
       "    </tr>\n",
       "    <tr>\n",
       "      <th>Galantis</th>\n",
       "      <td>102</td>\n",
       "      <td>5.831510</td>\n",
       "    </tr>\n",
       "    <tr>\n",
       "      <th>Jason Dunn</th>\n",
       "      <td>63</td>\n",
       "      <td>3.562426</td>\n",
       "    </tr>\n",
       "    <tr>\n",
       "      <th>Young The Giant</th>\n",
       "      <td>36</td>\n",
       "      <td>2.366879</td>\n",
       "    </tr>\n",
       "    <tr>\n",
       "      <th>Young Rising Sons</th>\n",
       "      <td>37</td>\n",
       "      <td>2.097078</td>\n",
       "    </tr>\n",
       "    <tr>\n",
       "      <th>Timbaland</th>\n",
       "      <td>32</td>\n",
       "      <td>1.637422</td>\n",
       "    </tr>\n",
       "    <tr>\n",
       "      <th>Rudimental</th>\n",
       "      <td>23</td>\n",
       "      <td>1.549267</td>\n",
       "    </tr>\n",
       "    <tr>\n",
       "      <th>Alesso and Calvin Harris</th>\n",
       "      <td>29</td>\n",
       "      <td>1.477220</td>\n",
       "    </tr>\n",
       "    <tr>\n",
       "      <th>Linkin Park</th>\n",
       "      <td>21</td>\n",
       "      <td>1.156724</td>\n",
       "    </tr>\n",
       "    <tr>\n",
       "      <th>Red</th>\n",
       "      <td>21</td>\n",
       "      <td>1.042600</td>\n",
       "    </tr>\n",
       "    <tr>\n",
       "      <th>Kongos</th>\n",
       "      <td>10</td>\n",
       "      <td>0.586228</td>\n",
       "    </tr>\n",
       "    <tr>\n",
       "      <th>Grand Canyon University</th>\n",
       "      <td>0</td>\n",
       "      <td>0.000000</td>\n",
       "    </tr>\n",
       "    <tr>\n",
       "      <th>nan</th>\n",
       "      <td>0</td>\n",
       "      <td>0.000000</td>\n",
       "    </tr>\n",
       "  </tbody>\n",
       "</table>\n",
       "</div>"
      ],
      "text/plain": [
       "                                  Play Count  Total Duration\n",
       "Artist                                                      \n",
       "Imagine Dragons                         9221      585.587857\n",
       "OneRepublic                             8909      560.736959\n",
       "Bastille                                7155      411.906124\n",
       "Coldplay                                3416      253.255570\n",
       "Thousand Foot Krutch                    2708      163.717415\n",
       "twenty one pilots                       1975      128.787091\n",
       "Stromae                                  893       55.908821\n",
       "Ed Sheeran                               941       55.560957\n",
       "Hawk Nelson                              996       53.090708\n",
       "Fitz & The Tantrums                      843       47.445510\n",
       "Panic! At The Disco                      567       30.533549\n",
       "Owl City                                 490       28.698172\n",
       "Andrew McMahon in the Wilderness         354       22.372106\n",
       "Rise Against                             331       18.740209\n",
       "Kygo                                     286       17.110161\n",
       "FM Static                                300       16.564424\n",
       "Nine Lashes                              235       13.489119\n",
       "Pillar                                   211       12.869219\n",
       "Other People's Heartache                 184       12.341233\n",
       "American Authors                         197       11.197222\n",
       "AJR                                      150        8.853841\n",
       "The Drawing Room                         167        7.746160\n",
       "Alesso                                   130        7.481433\n",
       "Skillet                                  115        6.677478\n",
       "Marshmello                               101        6.013259\n",
       "Galantis                                 102        5.831510\n",
       "Jason Dunn                                63        3.562426\n",
       "Young The Giant                           36        2.366879\n",
       "Young Rising Sons                         37        2.097078\n",
       "Timbaland                                 32        1.637422\n",
       "Rudimental                                23        1.549267\n",
       "Alesso and Calvin Harris                  29        1.477220\n",
       "Linkin Park                               21        1.156724\n",
       "Red                                       21        1.042600\n",
       "Kongos                                    10        0.586228\n",
       "Grand Canyon University                    0        0.000000\n",
       "nan                                        0        0.000000"
      ]
     },
     "execution_count": 11,
     "metadata": {},
     "output_type": "execute_result"
    }
   ],
   "source": [
    "f.length_by_artist(data, length='hours')"
   ]
  },
  {
   "cell_type": "code",
   "execution_count": 12,
   "metadata": {},
   "outputs": [
    {
     "data": {
      "text/plain": [
       "['Bastille']"
      ]
     },
     "execution_count": 12,
     "metadata": {},
     "output_type": "execute_result"
    }
   ],
   "source": [
    "# should manually do this for all artists? do this when originally reading in data & save it\n",
    "compress = \"Bastille\".lower()\n",
    "to_compress = []\n",
    "for artist in artists:\n",
    "    if compress == artist.lower():\n",
    "        to_compress.append(artist)\n",
    "to_compress"
   ]
  },
  {
   "cell_type": "code",
   "execution_count": 14,
   "metadata": {},
   "outputs": [],
   "source": [
    "data2 = data['Artist'].unique()"
   ]
  },
  {
   "cell_type": "code",
   "execution_count": null,
   "metadata": {},
   "outputs": [],
   "source": []
  }
 ],
 "metadata": {
  "kernelspec": {
   "display_name": "Python 3",
   "language": "python",
   "name": "python3"
  },
  "language_info": {
   "codemirror_mode": {
    "name": "ipython",
    "version": 3
   },
   "file_extension": ".py",
   "mimetype": "text/x-python",
   "name": "python",
   "nbconvert_exporter": "python",
   "pygments_lexer": "ipython3",
   "version": "3.7.3"
  }
 },
 "nbformat": 4,
 "nbformat_minor": 2
}
